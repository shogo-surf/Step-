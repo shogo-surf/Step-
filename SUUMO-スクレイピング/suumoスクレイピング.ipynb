{
 "cells": [
  {
   "cell_type": "code",
   "execution_count": 31,
   "metadata": {},
   "outputs": [],
   "source": [
    "import requests\n",
    "from bs4 import BeautifulSoup\n",
    "import pandas as pd \n",
    "from retry import retry"
   ]
  },
  {
   "cell_type": "code",
   "execution_count": 32,
   "metadata": {},
   "outputs": [],
   "source": [
    "#目黒区\n",
    "base_url = \"https://suumo.jp/chintai/tokyo/sc_meguro/\""
   ]
  },
  {
   "cell_type": "code",
   "execution_count": 33,
   "metadata": {},
   "outputs": [],
   "source": [
    "@retry(tries=3, delay=10, backoff=2)\n",
    "def get_html(url):\n",
    "    r = requests.get(url)\n",
    "    soup = BeautifulSoup(r.content, \"html.parser\")\n",
    "    return soup"
   ]
  },
  {
   "cell_type": "code",
   "execution_count": 34,
   "metadata": {},
   "outputs": [],
   "source": [
    "all_data = []\n",
    "max_page = 10"
   ]
  },
  {
   "cell_type": "code",
   "execution_count": 35,
   "metadata": {},
   "outputs": [],
   "source": [
    "for page in range(1, max_page+1):\n",
    "    url = base_url.format(page)"
   ]
  },
  {
   "cell_type": "code",
   "execution_count": 36,
   "metadata": {},
   "outputs": [],
   "source": [
    "soup = get_html(url)"
   ]
  },
  {
   "cell_type": "code",
   "execution_count": 37,
   "metadata": {},
   "outputs": [
    {
     "name": "stdout",
     "output_type": "stream",
     "text": [
      "page 10 items 20\n"
     ]
    }
   ],
   "source": [
    "items = soup.findAll(\"div\", {\"class\": \"cassetteitem\"})\n",
    "print(\"page\", page, \"items\", len(items))"
   ]
  },
  {
   "cell_type": "code",
   "execution_count": 38,
   "metadata": {},
   "outputs": [],
   "source": [
    "for item in items:\n",
    "    stations = item.findAll(\"div\", {\"class\": \"cassetteitem_detail-text\"})"
   ]
  },
  {
   "cell_type": "code",
   "execution_count": 39,
   "metadata": {},
   "outputs": [],
   "source": [
    "for station in stations:\n",
    "    base_data = {}"
   ]
  },
  {
   "cell_type": "code",
   "execution_count": 40,
   "metadata": {},
   "outputs": [],
   "source": [
    "#基礎情報収集\n",
    "base_data[\"名称\"] = item.find(\"div\", {\"class\": \"cassetteitem_content-title\"}).getText().strip()\n",
    "base_data[\"カテゴリー\"] = item.find(\"div\", {\"class\": \"cassetteitem_content-label\"}).getText().strip()\n",
    "base_data[\"アドレス\"] = item.find(\"li\", {\"class\": \"cassetteitem_detail-col1\"}).getText().strip()\n",
    "base_data[\"アクセス\"] = station.getText().strip()\n",
    "base_data[\"築年数\"] = item.find(\"li\", {\"class\": \"cassetteitem_detail-col3\"}).findAll(\"div\")[0].getText().strip()\n",
    "base_data[\"構造\"] = item.find(\"li\", {\"class\": \"cassetteitem_detail-col3\"}).findAll(\"div\")[1].getText().strip()"
   ]
  },
  {
   "cell_type": "code",
   "execution_count": 41,
   "metadata": {},
   "outputs": [],
   "source": [
    "tbodys = item.find(\"table\", {\"class\": \"cassetteitem_other\"}).findAll(\"tbody\")"
   ]
  },
  {
   "cell_type": "code",
   "execution_count": 42,
   "metadata": {},
   "outputs": [],
   "source": [
    "for tbody in tbodys:\n",
    "    data = base_data.copy()\n",
    "\n",
    "    data[\"階数\"] = tbody.findAll(\"td\")[2].getText().strip()\n",
    "\n",
    "    data[\"家賃\"] = tbody.findAll(\"td\")[3].findAll(\"li\")[0].getText().strip()\n",
    "    data[\"管理費\"] = tbody.findAll(\"td\")[3].findAll(\"li\")[1].getText().strip()\n",
    "\n",
    "    data[\"敷金\"] = tbody.findAll(\"td\")[4].findAll(\"li\")[0].getText().strip()\n",
    "    data[\"礼金\"] = tbody.findAll(\"td\")[4].findAll(\"li\")[1].getText().strip()\n",
    "\n",
    "    data[\"間取り\"] = tbody.findAll(\"td\")[5].findAll(\"li\")[0].getText().strip()\n",
    "    data[\"面積\"] = tbody.findAll(\"td\")[5].findAll(\"li\")[1].getText().strip()\n",
    "                \n",
    "    data[\"URL\"] = \"https://suumo.jp\" + tbody.findAll(\"td\")[8].find(\"a\").get(\"href\")\n",
    "                \n",
    "    all_data.append(data)"
   ]
  },
  {
   "cell_type": "code",
   "execution_count": 43,
   "metadata": {},
   "outputs": [],
   "source": [
    "df = pd.DataFrame(all_data)\n",
    "df.to_csv(\"meguro_raw_data.csv\")"
   ]
  },
  {
   "cell_type": "code",
   "execution_count": 44,
   "metadata": {},
   "outputs": [
    {
     "data": {
      "text/html": [
       "<div>\n",
       "<style scoped>\n",
       "    .dataframe tbody tr th:only-of-type {\n",
       "        vertical-align: middle;\n",
       "    }\n",
       "\n",
       "    .dataframe tbody tr th {\n",
       "        vertical-align: top;\n",
       "    }\n",
       "\n",
       "    .dataframe thead th {\n",
       "        text-align: right;\n",
       "    }\n",
       "</style>\n",
       "<table border=\"1\" class=\"dataframe\">\n",
       "  <thead>\n",
       "    <tr style=\"text-align: right;\">\n",
       "      <th></th>\n",
       "      <th>名称</th>\n",
       "      <th>カテゴリー</th>\n",
       "      <th>アドレス</th>\n",
       "      <th>アクセス</th>\n",
       "      <th>築年数</th>\n",
       "      <th>構造</th>\n",
       "      <th>階数</th>\n",
       "      <th>家賃</th>\n",
       "      <th>管理費</th>\n",
       "      <th>敷金</th>\n",
       "      <th>礼金</th>\n",
       "      <th>間取り</th>\n",
       "      <th>面積</th>\n",
       "      <th>URL</th>\n",
       "    </tr>\n",
       "  </thead>\n",
       "  <tbody>\n",
       "    <tr>\n",
       "      <th>0</th>\n",
       "      <td>PASEO目黒</td>\n",
       "      <td>賃貸マンション</td>\n",
       "      <td>東京都目黒区下目黒２</td>\n",
       "      <td>東急目黒線/武蔵小山駅 歩21分</td>\n",
       "      <td>築4年</td>\n",
       "      <td>4階建</td>\n",
       "      <td>4階</td>\n",
       "      <td>11.9万円</td>\n",
       "      <td>10000円</td>\n",
       "      <td>-</td>\n",
       "      <td>-</td>\n",
       "      <td>ワンルーム</td>\n",
       "      <td>24.4m2</td>\n",
       "      <td>https://suumo.jp/chintai/jnc_000076002819/</td>\n",
       "    </tr>\n",
       "    <tr>\n",
       "      <th>1</th>\n",
       "      <td>PASEO目黒</td>\n",
       "      <td>賃貸マンション</td>\n",
       "      <td>東京都目黒区下目黒２</td>\n",
       "      <td>東急目黒線/武蔵小山駅 歩21分</td>\n",
       "      <td>築4年</td>\n",
       "      <td>4階建</td>\n",
       "      <td>4階</td>\n",
       "      <td>18.3万円</td>\n",
       "      <td>-</td>\n",
       "      <td>-</td>\n",
       "      <td>-</td>\n",
       "      <td>2DK</td>\n",
       "      <td>40.75m2</td>\n",
       "      <td>https://suumo.jp/chintai/jnc_000086717111/</td>\n",
       "    </tr>\n",
       "    <tr>\n",
       "      <th>2</th>\n",
       "      <td>PASEO目黒</td>\n",
       "      <td>賃貸マンション</td>\n",
       "      <td>東京都目黒区下目黒２</td>\n",
       "      <td>東急目黒線/武蔵小山駅 歩21分</td>\n",
       "      <td>築4年</td>\n",
       "      <td>4階建</td>\n",
       "      <td>4階</td>\n",
       "      <td>18.3万円</td>\n",
       "      <td>12000円</td>\n",
       "      <td>-</td>\n",
       "      <td>-</td>\n",
       "      <td>1LDK</td>\n",
       "      <td>40.75m2</td>\n",
       "      <td>https://suumo.jp/chintai/jnc_000085963153/</td>\n",
       "    </tr>\n",
       "    <tr>\n",
       "      <th>3</th>\n",
       "      <td>PASEO目黒</td>\n",
       "      <td>賃貸マンション</td>\n",
       "      <td>東京都目黒区下目黒２</td>\n",
       "      <td>東急目黒線/武蔵小山駅 歩21分</td>\n",
       "      <td>築4年</td>\n",
       "      <td>4階建</td>\n",
       "      <td>1階</td>\n",
       "      <td>19.7万円</td>\n",
       "      <td>12000円</td>\n",
       "      <td>-</td>\n",
       "      <td>-</td>\n",
       "      <td>1SLDK</td>\n",
       "      <td>45.66m2</td>\n",
       "      <td>https://suumo.jp/chintai/jnc_000086509846/</td>\n",
       "    </tr>\n",
       "    <tr>\n",
       "      <th>4</th>\n",
       "      <td>PASEO目黒</td>\n",
       "      <td>賃貸マンション</td>\n",
       "      <td>東京都目黒区下目黒２</td>\n",
       "      <td>東急目黒線/武蔵小山駅 歩21分</td>\n",
       "      <td>築4年</td>\n",
       "      <td>4階建</td>\n",
       "      <td>1階</td>\n",
       "      <td>20.2万円</td>\n",
       "      <td>12000円</td>\n",
       "      <td>-</td>\n",
       "      <td>-</td>\n",
       "      <td>2LDK</td>\n",
       "      <td>45.66m2</td>\n",
       "      <td>https://suumo.jp/chintai/jnc_000076540745/</td>\n",
       "    </tr>\n",
       "  </tbody>\n",
       "</table>\n",
       "</div>"
      ],
      "text/plain": [
       "        名称    カテゴリー        アドレス              アクセス  築年数   構造  階数      家賃  \\\n",
       "0  PASEO目黒  賃貸マンション  東京都目黒区下目黒２  東急目黒線/武蔵小山駅 歩21分  築4年  4階建  4階  11.9万円   \n",
       "1  PASEO目黒  賃貸マンション  東京都目黒区下目黒２  東急目黒線/武蔵小山駅 歩21分  築4年  4階建  4階  18.3万円   \n",
       "2  PASEO目黒  賃貸マンション  東京都目黒区下目黒２  東急目黒線/武蔵小山駅 歩21分  築4年  4階建  4階  18.3万円   \n",
       "3  PASEO目黒  賃貸マンション  東京都目黒区下目黒２  東急目黒線/武蔵小山駅 歩21分  築4年  4階建  1階  19.7万円   \n",
       "4  PASEO目黒  賃貸マンション  東京都目黒区下目黒２  東急目黒線/武蔵小山駅 歩21分  築4年  4階建  1階  20.2万円   \n",
       "\n",
       "      管理費 敷金 礼金    間取り       面積                                         URL  \n",
       "0  10000円  -  -  ワンルーム   24.4m2  https://suumo.jp/chintai/jnc_000076002819/  \n",
       "1       -  -  -    2DK  40.75m2  https://suumo.jp/chintai/jnc_000086717111/  \n",
       "2  12000円  -  -   1LDK  40.75m2  https://suumo.jp/chintai/jnc_000085963153/  \n",
       "3  12000円  -  -  1SLDK  45.66m2  https://suumo.jp/chintai/jnc_000086509846/  \n",
       "4  12000円  -  -   2LDK  45.66m2  https://suumo.jp/chintai/jnc_000076540745/  "
      ]
     },
     "execution_count": 44,
     "metadata": {},
     "output_type": "execute_result"
    }
   ],
   "source": [
    "df"
   ]
  },
  {
   "cell_type": "code",
   "execution_count": null,
   "metadata": {},
   "outputs": [],
   "source": []
  }
 ],
 "metadata": {
  "kernelspec": {
   "display_name": "Python 3",
   "language": "python",
   "name": "python3"
  },
  "language_info": {
   "codemirror_mode": {
    "name": "ipython",
    "version": 3
   },
   "file_extension": ".py",
   "mimetype": "text/x-python",
   "name": "python",
   "nbconvert_exporter": "python",
   "pygments_lexer": "ipython3",
   "version": "3.11.4"
  }
 },
 "nbformat": 4,
 "nbformat_minor": 2
}
